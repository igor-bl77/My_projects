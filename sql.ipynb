{
 "cells": [
  {
   "cell_type": "markdown",
   "metadata": {},
   "source": [
    "# Проект \"SQL\""
   ]
  },
  {
   "cell_type": "markdown",
   "metadata": {},
   "source": [
    "**Ваша первая задача как аналитика — проанализировать базу данных. В ней — информация о книгах, издательствах, авторах, а также пользовательские обзоры книг. Эти данные помогут сформулировать ценностное предложение для нового продукта.**"
   ]
  },
  {
   "cell_type": "markdown",
   "metadata": {},
   "source": [
    "1. **Таблица books Содержит данные о книгах:**\n",
    "- book_id — идентификатор книги;\n",
    "- author_id — идентификатор автора;\n",
    "- title — название книги;\n",
    "- num_pages — количество страниц;\n",
    "- publication_date — дата публикации книги;\n",
    "- publisher_id — идентификатор издателя.\n",
    "2. **Таблица authors Содержит данные об авторах:**\n",
    "- author_id — идентификатор автора;\n",
    "- author — имя автора.\n",
    "3. **Таблица publishers Содержит данные об издательствах:**\n",
    "- publisher_id — идентификатор издательства;\n",
    "- publisher — название издательства;\n",
    "4. **Таблица ratings Содержит данные о пользовательских оценках книг:**\n",
    "- rating_id — идентификатор оценки;\n",
    "- book_id — идентификатор книги;\n",
    "- username — имя пользователя, оставившего оценку;\n",
    "- rating — оценка книги.\n",
    "5. **Таблица reviews Содержит данные о пользовательских обзорах на книги:**\n",
    "- review_id — идентификатор обзора;\n",
    "- book_id — идентификатор книги;\n",
    "- username — имя пользователя, написавшего обзор;\n",
    "- text — текст обзора."
   ]
  },
  {
   "cell_type": "code",
   "execution_count": 1,
   "metadata": {},
   "outputs": [
    {
     "name": "stdout",
     "output_type": "stream",
     "text": [
      "Requirement already satisfied: psycopg2-binary in /opt/conda/lib/python3.9/site-packages (2.9.2)\r\n"
     ]
    }
   ],
   "source": [
    "!pip install psycopg2-binary"
   ]
  },
  {
   "cell_type": "code",
   "execution_count": 2,
   "metadata": {},
   "outputs": [],
   "source": [
    "# импортируем библиотеки\n",
    "import pandas as pd\n",
    "import sqlalchemy as sa"
   ]
  },
  {
   "cell_type": "code",
   "execution_count": 4,
   "metadata": {},
   "outputs": [
    {
     "data": {
      "text/html": [
       "<div>\n",
       "<style scoped>\n",
       "    .dataframe tbody tr th:only-of-type {\n",
       "        vertical-align: middle;\n",
       "    }\n",
       "\n",
       "    .dataframe tbody tr th {\n",
       "        vertical-align: top;\n",
       "    }\n",
       "\n",
       "    .dataframe thead th {\n",
       "        text-align: right;\n",
       "    }\n",
       "</style>\n",
       "<table border=\"1\" class=\"dataframe\">\n",
       "  <thead>\n",
       "    <tr style=\"text-align: right;\">\n",
       "      <th></th>\n",
       "      <th>book_id</th>\n",
       "      <th>author_id</th>\n",
       "      <th>title</th>\n",
       "      <th>num_pages</th>\n",
       "      <th>publication_date</th>\n",
       "      <th>publisher_id</th>\n",
       "      <th>table_size</th>\n",
       "    </tr>\n",
       "  </thead>\n",
       "  <tbody>\n",
       "    <tr>\n",
       "      <th>0</th>\n",
       "      <td>1</td>\n",
       "      <td>546</td>\n",
       "      <td>'Salem's Lot</td>\n",
       "      <td>594</td>\n",
       "      <td>2005-11-01</td>\n",
       "      <td>93</td>\n",
       "      <td>1000</td>\n",
       "    </tr>\n",
       "    <tr>\n",
       "      <th>1</th>\n",
       "      <td>2</td>\n",
       "      <td>465</td>\n",
       "      <td>1 000 Places to See Before You Die</td>\n",
       "      <td>992</td>\n",
       "      <td>2003-05-22</td>\n",
       "      <td>336</td>\n",
       "      <td>1000</td>\n",
       "    </tr>\n",
       "    <tr>\n",
       "      <th>2</th>\n",
       "      <td>3</td>\n",
       "      <td>407</td>\n",
       "      <td>13 Little Blue Envelopes (Little Blue Envelope...</td>\n",
       "      <td>322</td>\n",
       "      <td>2010-12-21</td>\n",
       "      <td>135</td>\n",
       "      <td>1000</td>\n",
       "    </tr>\n",
       "    <tr>\n",
       "      <th>3</th>\n",
       "      <td>4</td>\n",
       "      <td>82</td>\n",
       "      <td>1491: New Revelations of the Americas Before C...</td>\n",
       "      <td>541</td>\n",
       "      <td>2006-10-10</td>\n",
       "      <td>309</td>\n",
       "      <td>1000</td>\n",
       "    </tr>\n",
       "    <tr>\n",
       "      <th>4</th>\n",
       "      <td>5</td>\n",
       "      <td>125</td>\n",
       "      <td>1776</td>\n",
       "      <td>386</td>\n",
       "      <td>2006-07-04</td>\n",
       "      <td>268</td>\n",
       "      <td>1000</td>\n",
       "    </tr>\n",
       "  </tbody>\n",
       "</table>\n",
       "</div>"
      ],
      "text/plain": [
       "   book_id  author_id                                              title  \\\n",
       "0        1        546                                       'Salem's Lot   \n",
       "1        2        465                 1 000 Places to See Before You Die   \n",
       "2        3        407  13 Little Blue Envelopes (Little Blue Envelope...   \n",
       "3        4         82  1491: New Revelations of the Americas Before C...   \n",
       "4        5        125                                               1776   \n",
       "\n",
       "   num_pages publication_date  publisher_id  table_size  \n",
       "0        594       2005-11-01            93        1000  \n",
       "1        992       2003-05-22           336        1000  \n",
       "2        322       2010-12-21           135        1000  \n",
       "3        541       2006-10-10           309        1000  \n",
       "4        386       2006-07-04           268        1000  "
      ]
     },
     "execution_count": 4,
     "metadata": {},
     "output_type": "execute_result"
    }
   ],
   "source": [
    "# формируем запрос и выводим данные\n",
    "query = '''SELECT *, COUNT(*) OVER() AS table_size FROM books LIMIT 5'''\n",
    "get_sql_data(query)"
   ]
  },
  {
   "cell_type": "code",
   "execution_count": 5,
   "metadata": {},
   "outputs": [
    {
     "data": {
      "text/html": [
       "<div>\n",
       "<style scoped>\n",
       "    .dataframe tbody tr th:only-of-type {\n",
       "        vertical-align: middle;\n",
       "    }\n",
       "\n",
       "    .dataframe tbody tr th {\n",
       "        vertical-align: top;\n",
       "    }\n",
       "\n",
       "    .dataframe thead th {\n",
       "        text-align: right;\n",
       "    }\n",
       "</style>\n",
       "<table border=\"1\" class=\"dataframe\">\n",
       "  <thead>\n",
       "    <tr style=\"text-align: right;\">\n",
       "      <th></th>\n",
       "      <th>count</th>\n",
       "    </tr>\n",
       "  </thead>\n",
       "  <tbody>\n",
       "    <tr>\n",
       "      <th>0</th>\n",
       "      <td>1000</td>\n",
       "    </tr>\n",
       "  </tbody>\n",
       "</table>\n",
       "</div>"
      ],
      "text/plain": [
       "   count\n",
       "0   1000"
      ]
     },
     "execution_count": 5,
     "metadata": {},
     "output_type": "execute_result"
    }
   ],
   "source": [
    "query = '''SELECT count(*) FROM books'''\n",
    "get_sql_data(query)"
   ]
  },
  {
   "cell_type": "code",
   "execution_count": 6,
   "metadata": {},
   "outputs": [
    {
     "data": {
      "text/html": [
       "<div>\n",
       "<style scoped>\n",
       "    .dataframe tbody tr th:only-of-type {\n",
       "        vertical-align: middle;\n",
       "    }\n",
       "\n",
       "    .dataframe tbody tr th {\n",
       "        vertical-align: top;\n",
       "    }\n",
       "\n",
       "    .dataframe thead th {\n",
       "        text-align: right;\n",
       "    }\n",
       "</style>\n",
       "<table border=\"1\" class=\"dataframe\">\n",
       "  <thead>\n",
       "    <tr style=\"text-align: right;\">\n",
       "      <th></th>\n",
       "      <th>author_id</th>\n",
       "      <th>author</th>\n",
       "    </tr>\n",
       "  </thead>\n",
       "  <tbody>\n",
       "    <tr>\n",
       "      <th>0</th>\n",
       "      <td>1</td>\n",
       "      <td>A.S. Byatt</td>\n",
       "    </tr>\n",
       "    <tr>\n",
       "      <th>1</th>\n",
       "      <td>2</td>\n",
       "      <td>Aesop/Laura Harris/Laura Gibbs</td>\n",
       "    </tr>\n",
       "    <tr>\n",
       "      <th>2</th>\n",
       "      <td>3</td>\n",
       "      <td>Agatha Christie</td>\n",
       "    </tr>\n",
       "    <tr>\n",
       "      <th>3</th>\n",
       "      <td>4</td>\n",
       "      <td>Alan Brennert</td>\n",
       "    </tr>\n",
       "    <tr>\n",
       "      <th>4</th>\n",
       "      <td>5</td>\n",
       "      <td>Alan Moore/David   Lloyd</td>\n",
       "    </tr>\n",
       "  </tbody>\n",
       "</table>\n",
       "</div>"
      ],
      "text/plain": [
       "   author_id                          author\n",
       "0          1                      A.S. Byatt\n",
       "1          2  Aesop/Laura Harris/Laura Gibbs\n",
       "2          3                 Agatha Christie\n",
       "3          4                   Alan Brennert\n",
       "4          5        Alan Moore/David   Lloyd"
      ]
     },
     "execution_count": 6,
     "metadata": {},
     "output_type": "execute_result"
    }
   ],
   "source": [
    "query = '''SELECT * FROM authors LIMIT 5'''\n",
    "get_sql_data(query)"
   ]
  },
  {
   "cell_type": "code",
   "execution_count": 7,
   "metadata": {},
   "outputs": [
    {
     "data": {
      "text/html": [
       "<div>\n",
       "<style scoped>\n",
       "    .dataframe tbody tr th:only-of-type {\n",
       "        vertical-align: middle;\n",
       "    }\n",
       "\n",
       "    .dataframe tbody tr th {\n",
       "        vertical-align: top;\n",
       "    }\n",
       "\n",
       "    .dataframe thead th {\n",
       "        text-align: right;\n",
       "    }\n",
       "</style>\n",
       "<table border=\"1\" class=\"dataframe\">\n",
       "  <thead>\n",
       "    <tr style=\"text-align: right;\">\n",
       "      <th></th>\n",
       "      <th>count</th>\n",
       "    </tr>\n",
       "  </thead>\n",
       "  <tbody>\n",
       "    <tr>\n",
       "      <th>0</th>\n",
       "      <td>636</td>\n",
       "    </tr>\n",
       "  </tbody>\n",
       "</table>\n",
       "</div>"
      ],
      "text/plain": [
       "   count\n",
       "0    636"
      ]
     },
     "execution_count": 7,
     "metadata": {},
     "output_type": "execute_result"
    }
   ],
   "source": [
    "query = '''SELECT count(*) FROM authors '''\n",
    "get_sql_data(query)"
   ]
  },
  {
   "cell_type": "code",
   "execution_count": 8,
   "metadata": {
    "scrolled": true
   },
   "outputs": [
    {
     "data": {
      "text/html": [
       "<div>\n",
       "<style scoped>\n",
       "    .dataframe tbody tr th:only-of-type {\n",
       "        vertical-align: middle;\n",
       "    }\n",
       "\n",
       "    .dataframe tbody tr th {\n",
       "        vertical-align: top;\n",
       "    }\n",
       "\n",
       "    .dataframe thead th {\n",
       "        text-align: right;\n",
       "    }\n",
       "</style>\n",
       "<table border=\"1\" class=\"dataframe\">\n",
       "  <thead>\n",
       "    <tr style=\"text-align: right;\">\n",
       "      <th></th>\n",
       "      <th>publisher_id</th>\n",
       "      <th>publisher</th>\n",
       "    </tr>\n",
       "  </thead>\n",
       "  <tbody>\n",
       "    <tr>\n",
       "      <th>0</th>\n",
       "      <td>1</td>\n",
       "      <td>Ace</td>\n",
       "    </tr>\n",
       "    <tr>\n",
       "      <th>1</th>\n",
       "      <td>2</td>\n",
       "      <td>Ace Book</td>\n",
       "    </tr>\n",
       "    <tr>\n",
       "      <th>2</th>\n",
       "      <td>3</td>\n",
       "      <td>Ace Books</td>\n",
       "    </tr>\n",
       "    <tr>\n",
       "      <th>3</th>\n",
       "      <td>4</td>\n",
       "      <td>Ace Hardcover</td>\n",
       "    </tr>\n",
       "    <tr>\n",
       "      <th>4</th>\n",
       "      <td>5</td>\n",
       "      <td>Addison Wesley Publishing Company</td>\n",
       "    </tr>\n",
       "  </tbody>\n",
       "</table>\n",
       "</div>"
      ],
      "text/plain": [
       "   publisher_id                          publisher\n",
       "0             1                                Ace\n",
       "1             2                           Ace Book\n",
       "2             3                          Ace Books\n",
       "3             4                      Ace Hardcover\n",
       "4             5  Addison Wesley Publishing Company"
      ]
     },
     "execution_count": 8,
     "metadata": {},
     "output_type": "execute_result"
    }
   ],
   "source": [
    "query = '''SELECT * FROM publishers LIMIT 5'''\n",
    "get_sql_data(query)"
   ]
  },
  {
   "cell_type": "code",
   "execution_count": 9,
   "metadata": {},
   "outputs": [
    {
     "data": {
      "text/html": [
       "<div>\n",
       "<style scoped>\n",
       "    .dataframe tbody tr th:only-of-type {\n",
       "        vertical-align: middle;\n",
       "    }\n",
       "\n",
       "    .dataframe tbody tr th {\n",
       "        vertical-align: top;\n",
       "    }\n",
       "\n",
       "    .dataframe thead th {\n",
       "        text-align: right;\n",
       "    }\n",
       "</style>\n",
       "<table border=\"1\" class=\"dataframe\">\n",
       "  <thead>\n",
       "    <tr style=\"text-align: right;\">\n",
       "      <th></th>\n",
       "      <th>count</th>\n",
       "    </tr>\n",
       "  </thead>\n",
       "  <tbody>\n",
       "    <tr>\n",
       "      <th>0</th>\n",
       "      <td>340</td>\n",
       "    </tr>\n",
       "  </tbody>\n",
       "</table>\n",
       "</div>"
      ],
      "text/plain": [
       "   count\n",
       "0    340"
      ]
     },
     "execution_count": 9,
     "metadata": {},
     "output_type": "execute_result"
    }
   ],
   "source": [
    "query = '''SELECT count(*) FROM publishers '''\n",
    "get_sql_data(query)"
   ]
  },
  {
   "cell_type": "code",
   "execution_count": 10,
   "metadata": {},
   "outputs": [
    {
     "data": {
      "text/html": [
       "<div>\n",
       "<style scoped>\n",
       "    .dataframe tbody tr th:only-of-type {\n",
       "        vertical-align: middle;\n",
       "    }\n",
       "\n",
       "    .dataframe tbody tr th {\n",
       "        vertical-align: top;\n",
       "    }\n",
       "\n",
       "    .dataframe thead th {\n",
       "        text-align: right;\n",
       "    }\n",
       "</style>\n",
       "<table border=\"1\" class=\"dataframe\">\n",
       "  <thead>\n",
       "    <tr style=\"text-align: right;\">\n",
       "      <th></th>\n",
       "      <th>rating_id</th>\n",
       "      <th>book_id</th>\n",
       "      <th>username</th>\n",
       "      <th>rating</th>\n",
       "    </tr>\n",
       "  </thead>\n",
       "  <tbody>\n",
       "    <tr>\n",
       "      <th>0</th>\n",
       "      <td>1</td>\n",
       "      <td>1</td>\n",
       "      <td>ryanfranco</td>\n",
       "      <td>4</td>\n",
       "    </tr>\n",
       "    <tr>\n",
       "      <th>1</th>\n",
       "      <td>2</td>\n",
       "      <td>1</td>\n",
       "      <td>grantpatricia</td>\n",
       "      <td>2</td>\n",
       "    </tr>\n",
       "    <tr>\n",
       "      <th>2</th>\n",
       "      <td>3</td>\n",
       "      <td>1</td>\n",
       "      <td>brandtandrea</td>\n",
       "      <td>5</td>\n",
       "    </tr>\n",
       "    <tr>\n",
       "      <th>3</th>\n",
       "      <td>4</td>\n",
       "      <td>2</td>\n",
       "      <td>lorichen</td>\n",
       "      <td>3</td>\n",
       "    </tr>\n",
       "    <tr>\n",
       "      <th>4</th>\n",
       "      <td>5</td>\n",
       "      <td>2</td>\n",
       "      <td>mariokeller</td>\n",
       "      <td>2</td>\n",
       "    </tr>\n",
       "  </tbody>\n",
       "</table>\n",
       "</div>"
      ],
      "text/plain": [
       "   rating_id  book_id       username  rating\n",
       "0          1        1     ryanfranco       4\n",
       "1          2        1  grantpatricia       2\n",
       "2          3        1   brandtandrea       5\n",
       "3          4        2       lorichen       3\n",
       "4          5        2    mariokeller       2"
      ]
     },
     "execution_count": 10,
     "metadata": {},
     "output_type": "execute_result"
    }
   ],
   "source": [
    "query = '''SELECT * FROM ratings LIMIT 5'''\n",
    "get_sql_data(query)"
   ]
  },
  {
   "cell_type": "code",
   "execution_count": 11,
   "metadata": {},
   "outputs": [
    {
     "data": {
      "text/html": [
       "<div>\n",
       "<style scoped>\n",
       "    .dataframe tbody tr th:only-of-type {\n",
       "        vertical-align: middle;\n",
       "    }\n",
       "\n",
       "    .dataframe tbody tr th {\n",
       "        vertical-align: top;\n",
       "    }\n",
       "\n",
       "    .dataframe thead th {\n",
       "        text-align: right;\n",
       "    }\n",
       "</style>\n",
       "<table border=\"1\" class=\"dataframe\">\n",
       "  <thead>\n",
       "    <tr style=\"text-align: right;\">\n",
       "      <th></th>\n",
       "      <th>count</th>\n",
       "    </tr>\n",
       "  </thead>\n",
       "  <tbody>\n",
       "    <tr>\n",
       "      <th>0</th>\n",
       "      <td>6456</td>\n",
       "    </tr>\n",
       "  </tbody>\n",
       "</table>\n",
       "</div>"
      ],
      "text/plain": [
       "   count\n",
       "0   6456"
      ]
     },
     "execution_count": 11,
     "metadata": {},
     "output_type": "execute_result"
    }
   ],
   "source": [
    "query = '''SELECT count(*) FROM ratings'''\n",
    "get_sql_data(query)"
   ]
  },
  {
   "cell_type": "code",
   "execution_count": 12,
   "metadata": {},
   "outputs": [
    {
     "data": {
      "text/html": [
       "<div>\n",
       "<style scoped>\n",
       "    .dataframe tbody tr th:only-of-type {\n",
       "        vertical-align: middle;\n",
       "    }\n",
       "\n",
       "    .dataframe tbody tr th {\n",
       "        vertical-align: top;\n",
       "    }\n",
       "\n",
       "    .dataframe thead th {\n",
       "        text-align: right;\n",
       "    }\n",
       "</style>\n",
       "<table border=\"1\" class=\"dataframe\">\n",
       "  <thead>\n",
       "    <tr style=\"text-align: right;\">\n",
       "      <th></th>\n",
       "      <th>review_id</th>\n",
       "      <th>book_id</th>\n",
       "      <th>username</th>\n",
       "      <th>text</th>\n",
       "    </tr>\n",
       "  </thead>\n",
       "  <tbody>\n",
       "    <tr>\n",
       "      <th>0</th>\n",
       "      <td>1</td>\n",
       "      <td>1</td>\n",
       "      <td>brandtandrea</td>\n",
       "      <td>Mention society tell send professor analysis. ...</td>\n",
       "    </tr>\n",
       "    <tr>\n",
       "      <th>1</th>\n",
       "      <td>2</td>\n",
       "      <td>1</td>\n",
       "      <td>ryanfranco</td>\n",
       "      <td>Foot glass pretty audience hit themselves. Amo...</td>\n",
       "    </tr>\n",
       "    <tr>\n",
       "      <th>2</th>\n",
       "      <td>3</td>\n",
       "      <td>2</td>\n",
       "      <td>lorichen</td>\n",
       "      <td>Listen treat keep worry. Miss husband tax but ...</td>\n",
       "    </tr>\n",
       "    <tr>\n",
       "      <th>3</th>\n",
       "      <td>4</td>\n",
       "      <td>3</td>\n",
       "      <td>johnsonamanda</td>\n",
       "      <td>Finally month interesting blue could nature cu...</td>\n",
       "    </tr>\n",
       "    <tr>\n",
       "      <th>4</th>\n",
       "      <td>5</td>\n",
       "      <td>3</td>\n",
       "      <td>scotttamara</td>\n",
       "      <td>Nation purpose heavy give wait song will. List...</td>\n",
       "    </tr>\n",
       "  </tbody>\n",
       "</table>\n",
       "</div>"
      ],
      "text/plain": [
       "   review_id  book_id       username  \\\n",
       "0          1        1   brandtandrea   \n",
       "1          2        1     ryanfranco   \n",
       "2          3        2       lorichen   \n",
       "3          4        3  johnsonamanda   \n",
       "4          5        3    scotttamara   \n",
       "\n",
       "                                                text  \n",
       "0  Mention society tell send professor analysis. ...  \n",
       "1  Foot glass pretty audience hit themselves. Amo...  \n",
       "2  Listen treat keep worry. Miss husband tax but ...  \n",
       "3  Finally month interesting blue could nature cu...  \n",
       "4  Nation purpose heavy give wait song will. List...  "
      ]
     },
     "execution_count": 12,
     "metadata": {},
     "output_type": "execute_result"
    }
   ],
   "source": [
    "query = '''SELECT * FROM reviews LIMIT 5'''\n",
    "get_sql_data(query)"
   ]
  },
  {
   "cell_type": "code",
   "execution_count": 13,
   "metadata": {},
   "outputs": [
    {
     "data": {
      "text/html": [
       "<div>\n",
       "<style scoped>\n",
       "    .dataframe tbody tr th:only-of-type {\n",
       "        vertical-align: middle;\n",
       "    }\n",
       "\n",
       "    .dataframe tbody tr th {\n",
       "        vertical-align: top;\n",
       "    }\n",
       "\n",
       "    .dataframe thead th {\n",
       "        text-align: right;\n",
       "    }\n",
       "</style>\n",
       "<table border=\"1\" class=\"dataframe\">\n",
       "  <thead>\n",
       "    <tr style=\"text-align: right;\">\n",
       "      <th></th>\n",
       "      <th>count</th>\n",
       "    </tr>\n",
       "  </thead>\n",
       "  <tbody>\n",
       "    <tr>\n",
       "      <th>0</th>\n",
       "      <td>2793</td>\n",
       "    </tr>\n",
       "  </tbody>\n",
       "</table>\n",
       "</div>"
      ],
      "text/plain": [
       "   count\n",
       "0   2793"
      ]
     },
     "execution_count": 13,
     "metadata": {},
     "output_type": "execute_result"
    }
   ],
   "source": [
    "query = '''SELECT count(*) FROM reviews '''\n",
    "get_sql_data(query)"
   ]
  },
  {
   "cell_type": "markdown",
   "metadata": {},
   "source": [
    "**Загрузил и проверил таблицы. Таблица books Содержит 1000 строк, Таблица autors Содержит 639, Таблица publisher Содержит 340, Таблица rating Содержит 6454, Таблица reviews Содержит 2793, строки**"
   ]
  },
  {
   "cell_type": "markdown",
   "metadata": {},
   "source": [
    "## Задания\n",
    "1. Посчитайте, сколько книг вышло после 1 января 2000 года;\n",
    "2. Для каждой книги посчитайте количество обзоров и среднюю оценку;\n",
    "3. Определите издательство, которое выпустило наибольшее число книг толще 50 страниц — так вы исключите из анализа брошюры;\n",
    "4. Определите автора с самой высокой средней оценкой книг — учитывайтетолько книги с 50 и более оценками;\n",
    "5. Посчитайте среднее количество обзоров от пользователей, которые поставилибольше 48 оценок.\n"
   ]
  },
  {
   "cell_type": "markdown",
   "metadata": {},
   "source": [
    "*Посчитайте, сколько книг вышло после 1 января 2000 года*"
   ]
  },
  {
   "cell_type": "code",
   "execution_count": 14,
   "metadata": {},
   "outputs": [
    {
     "data": {
      "text/html": [
       "<div>\n",
       "<style scoped>\n",
       "    .dataframe tbody tr th:only-of-type {\n",
       "        vertical-align: middle;\n",
       "    }\n",
       "\n",
       "    .dataframe tbody tr th {\n",
       "        vertical-align: top;\n",
       "    }\n",
       "\n",
       "    .dataframe thead th {\n",
       "        text-align: right;\n",
       "    }\n",
       "</style>\n",
       "<table border=\"1\" class=\"dataframe\">\n",
       "  <thead>\n",
       "    <tr style=\"text-align: right;\">\n",
       "      <th></th>\n",
       "      <th>count</th>\n",
       "    </tr>\n",
       "  </thead>\n",
       "  <tbody>\n",
       "    <tr>\n",
       "      <th>0</th>\n",
       "      <td>862</td>\n",
       "    </tr>\n",
       "  </tbody>\n",
       "</table>\n",
       "</div>"
      ],
      "text/plain": [
       "   count\n",
       "0    862"
      ]
     },
     "execution_count": 14,
     "metadata": {},
     "output_type": "execute_result"
    }
   ],
   "source": [
    "query = '''WITH t as (SELECT * \n",
    "            FROM books\n",
    "            where EXTRACT(YEAR FROM CAST(publication_date AS date))> 2000-01-01)\n",
    "            SELECT count(distinct(book_id))\n",
    "            FROM t'''\n",
    "get_sql_data(query)"
   ]
  },
  {
   "cell_type": "markdown",
   "metadata": {},
   "source": [
    "**C 1 января 2000 было выпущено 862 книга**"
   ]
  },
  {
   "cell_type": "code",
   "execution_count": 15,
   "metadata": {},
   "outputs": [
    {
     "data": {
      "text/html": [
       "<div>\n",
       "<style scoped>\n",
       "    .dataframe tbody tr th:only-of-type {\n",
       "        vertical-align: middle;\n",
       "    }\n",
       "\n",
       "    .dataframe tbody tr th {\n",
       "        vertical-align: top;\n",
       "    }\n",
       "\n",
       "    .dataframe thead th {\n",
       "        text-align: right;\n",
       "    }\n",
       "</style>\n",
       "<table border=\"1\" class=\"dataframe\">\n",
       "  <thead>\n",
       "    <tr style=\"text-align: right;\">\n",
       "      <th></th>\n",
       "      <th>count</th>\n",
       "    </tr>\n",
       "  </thead>\n",
       "  <tbody>\n",
       "    <tr>\n",
       "      <th>0</th>\n",
       "      <td>819</td>\n",
       "    </tr>\n",
       "  </tbody>\n",
       "</table>\n",
       "</div>"
      ],
      "text/plain": [
       "   count\n",
       "0    819"
      ]
     },
     "execution_count": 15,
     "metadata": {},
     "output_type": "execute_result"
    }
   ],
   "source": [
    "# ячейка ревьюера:\n",
    "query = '''WITH t as (SELECT * \n",
    "            FROM books\n",
    "            WHERE publication_date > '2000-01-01')\n",
    "            SELECT count(distinct(book_id))\n",
    "            FROM t'''\n",
    "get_sql_data(query)"
   ]
  },
  {
   "cell_type": "markdown",
   "metadata": {},
   "source": [
    "*Для каждой книги посчитайте количество обзоров и среднюю оценку;*"
   ]
  },
  {
   "cell_type": "code",
   "execution_count": 16,
   "metadata": {},
   "outputs": [
    {
     "data": {
      "text/html": [
       "<div>\n",
       "<style scoped>\n",
       "    .dataframe tbody tr th:only-of-type {\n",
       "        vertical-align: middle;\n",
       "    }\n",
       "\n",
       "    .dataframe tbody tr th {\n",
       "        vertical-align: top;\n",
       "    }\n",
       "\n",
       "    .dataframe thead th {\n",
       "        text-align: right;\n",
       "    }\n",
       "</style>\n",
       "<table border=\"1\" class=\"dataframe\">\n",
       "  <thead>\n",
       "    <tr style=\"text-align: right;\">\n",
       "      <th></th>\n",
       "      <th>book_id</th>\n",
       "      <th>title</th>\n",
       "      <th>count_review</th>\n",
       "      <th>rating_avg</th>\n",
       "    </tr>\n",
       "  </thead>\n",
       "  <tbody>\n",
       "    <tr>\n",
       "      <th>0</th>\n",
       "      <td>1</td>\n",
       "      <td>'Salem's Lot</td>\n",
       "      <td>2</td>\n",
       "      <td>3.67</td>\n",
       "    </tr>\n",
       "    <tr>\n",
       "      <th>1</th>\n",
       "      <td>2</td>\n",
       "      <td>1 000 Places to See Before You Die</td>\n",
       "      <td>1</td>\n",
       "      <td>2.50</td>\n",
       "    </tr>\n",
       "    <tr>\n",
       "      <th>2</th>\n",
       "      <td>3</td>\n",
       "      <td>13 Little Blue Envelopes (Little Blue Envelope...</td>\n",
       "      <td>3</td>\n",
       "      <td>4.67</td>\n",
       "    </tr>\n",
       "    <tr>\n",
       "      <th>3</th>\n",
       "      <td>4</td>\n",
       "      <td>1491: New Revelations of the Americas Before C...</td>\n",
       "      <td>2</td>\n",
       "      <td>4.50</td>\n",
       "    </tr>\n",
       "    <tr>\n",
       "      <th>4</th>\n",
       "      <td>5</td>\n",
       "      <td>1776</td>\n",
       "      <td>4</td>\n",
       "      <td>4.00</td>\n",
       "    </tr>\n",
       "  </tbody>\n",
       "</table>\n",
       "</div>"
      ],
      "text/plain": [
       "   book_id                                              title  count_review  \\\n",
       "0        1                                       'Salem's Lot             2   \n",
       "1        2                 1 000 Places to See Before You Die             1   \n",
       "2        3  13 Little Blue Envelopes (Little Blue Envelope...             3   \n",
       "3        4  1491: New Revelations of the Americas Before C...             2   \n",
       "4        5                                               1776             4   \n",
       "\n",
       "   rating_avg  \n",
       "0        3.67  \n",
       "1        2.50  \n",
       "2        4.67  \n",
       "3        4.50  \n",
       "4        4.00  "
      ]
     },
     "execution_count": 16,
     "metadata": {},
     "output_type": "execute_result"
    }
   ],
   "source": [
    "query = '''SELECT b.book_id, title, COUNT(DISTINCT(review_id)) AS count_review,  ROUND(AVG(rating),2) AS rating_avg\n",
    "            FROM books as b\n",
    "            JOIN reviews as r on b.book_id=r.book_id\n",
    "            JOIN ratings as ra on b.book_id=ra.book_id\n",
    "            GROUP BY b.book_id\n",
    "            LIMIT 5\n",
    "            '''\n",
    "get_sql_data(query)"
   ]
  },
  {
   "cell_type": "markdown",
   "metadata": {},
   "source": [
    "**Таблица содержит id книг, название,  количество обзоров и среднюю оценку**"
   ]
  },
  {
   "cell_type": "markdown",
   "metadata": {},
   "source": [
    "*Определите издательство, которое выпустило наибольшее число книг толще 50 страниц — так вы исключите из анализа брошюры*"
   ]
  },
  {
   "cell_type": "code",
   "execution_count": 17,
   "metadata": {},
   "outputs": [
    {
     "data": {
      "text/html": [
       "<div>\n",
       "<style scoped>\n",
       "    .dataframe tbody tr th:only-of-type {\n",
       "        vertical-align: middle;\n",
       "    }\n",
       "\n",
       "    .dataframe tbody tr th {\n",
       "        vertical-align: top;\n",
       "    }\n",
       "\n",
       "    .dataframe thead th {\n",
       "        text-align: right;\n",
       "    }\n",
       "</style>\n",
       "<table border=\"1\" class=\"dataframe\">\n",
       "  <thead>\n",
       "    <tr style=\"text-align: right;\">\n",
       "      <th></th>\n",
       "      <th>publisher</th>\n",
       "      <th>count</th>\n",
       "    </tr>\n",
       "  </thead>\n",
       "  <tbody>\n",
       "    <tr>\n",
       "      <th>0</th>\n",
       "      <td>Penguin Books</td>\n",
       "      <td>42</td>\n",
       "    </tr>\n",
       "  </tbody>\n",
       "</table>\n",
       "</div>"
      ],
      "text/plain": [
       "       publisher  count\n",
       "0  Penguin Books     42"
      ]
     },
     "execution_count": 17,
     "metadata": {},
     "output_type": "execute_result"
    }
   ],
   "source": [
    "query = '''SELECT publisher, COUNT(book_id)\n",
    "            FROM books as b        \n",
    "            JOIN publishers as p on b.publisher_id=p.publisher_id\n",
    "            WHERE num_pages>50\n",
    "            GROUP BY publisher\n",
    "            ORDER BY count DESC\n",
    "            LIMIT 1\n",
    "            '''\n",
    "get_sql_data(query)"
   ]
  },
  {
   "cell_type": "markdown",
   "metadata": {},
   "source": [
    "**Наибольшее количество книг, толщиной более 50 листов выпустило издательство \"Penguin Books\" 42 книги**"
   ]
  },
  {
   "cell_type": "markdown",
   "metadata": {},
   "source": [
    "*Определите автора с самой высокой средней оценкой книг — учитывайте только книги с 50 и более оценками*"
   ]
  },
  {
   "cell_type": "code",
   "execution_count": 18,
   "metadata": {},
   "outputs": [
    {
     "data": {
      "text/html": [
       "<div>\n",
       "<style scoped>\n",
       "    .dataframe tbody tr th:only-of-type {\n",
       "        vertical-align: middle;\n",
       "    }\n",
       "\n",
       "    .dataframe tbody tr th {\n",
       "        vertical-align: top;\n",
       "    }\n",
       "\n",
       "    .dataframe thead th {\n",
       "        text-align: right;\n",
       "    }\n",
       "</style>\n",
       "<table border=\"1\" class=\"dataframe\">\n",
       "  <thead>\n",
       "    <tr style=\"text-align: right;\">\n",
       "      <th></th>\n",
       "      <th>author</th>\n",
       "      <th>rating_avg</th>\n",
       "    </tr>\n",
       "  </thead>\n",
       "  <tbody>\n",
       "    <tr>\n",
       "      <th>0</th>\n",
       "      <td>J.K. Rowling/Mary GrandPré</td>\n",
       "      <td>4.29</td>\n",
       "    </tr>\n",
       "  </tbody>\n",
       "</table>\n",
       "</div>"
      ],
      "text/plain": [
       "                       author  rating_avg\n",
       "0  J.K. Rowling/Mary GrandPré        4.29"
      ]
     },
     "execution_count": 18,
     "metadata": {},
     "output_type": "execute_result"
    }
   ],
   "source": [
    "query = '''WITH t AS (SELECT *\n",
    "            FROM books as b        \n",
    "            JOIN authors as a on b.author_id=a.author_id\n",
    "            JOIN ratings as r on b.book_id=r.book_id\n",
    "            WHERE b.book_id IN (SELECT book_id\n",
    "        FROM ratings\n",
    "        GROUP BY book_id\n",
    "        HAVING COUNT(rating) >= 50))\n",
    "        SELECT author, ROUND(AVG(rating),2) AS rating_avg\n",
    "        FROM t\n",
    "        GROUP BY t.author\n",
    "        ORDER BY rating_avg desc\n",
    "        LIMIT 1\n",
    "            '''\n",
    "get_sql_data(query)"
   ]
  },
  {
   "cell_type": "markdown",
   "metadata": {},
   "source": [
    "**Получили автора с самой высокой средней оценкой, сучетом того что, у книги не менее 50 оценок**"
   ]
  },
  {
   "cell_type": "code",
   "execution_count": 19,
   "metadata": {},
   "outputs": [
    {
     "data": {
      "text/html": [
       "<div>\n",
       "<style scoped>\n",
       "    .dataframe tbody tr th:only-of-type {\n",
       "        vertical-align: middle;\n",
       "    }\n",
       "\n",
       "    .dataframe tbody tr th {\n",
       "        vertical-align: top;\n",
       "    }\n",
       "\n",
       "    .dataframe thead th {\n",
       "        text-align: right;\n",
       "    }\n",
       "</style>\n",
       "<table border=\"1\" class=\"dataframe\">\n",
       "  <thead>\n",
       "    <tr style=\"text-align: right;\">\n",
       "      <th></th>\n",
       "      <th>author</th>\n",
       "      <th>rating_avg</th>\n",
       "    </tr>\n",
       "  </thead>\n",
       "  <tbody>\n",
       "    <tr>\n",
       "      <th>0</th>\n",
       "      <td>J.K. Rowling/Mary GrandPré</td>\n",
       "      <td>4.283844</td>\n",
       "    </tr>\n",
       "  </tbody>\n",
       "</table>\n",
       "</div>"
      ],
      "text/plain": [
       "                       author  rating_avg\n",
       "0  J.K. Rowling/Mary GrandPré    4.283844"
      ]
     },
     "execution_count": 19,
     "metadata": {},
     "output_type": "execute_result"
    }
   ],
   "source": [
    "# ячейка ревьюера:\n",
    "query = '''\n",
    "\n",
    "WITH t AS (\n",
    "    SELECT \n",
    "        a.author,\n",
    "        b.book_id,\n",
    "        AVG(r.rating) AS book_avg_rating\n",
    "    FROM books as b        \n",
    "    JOIN authors as a on b.author_id=a.author_id\n",
    "    JOIN ratings as r on b.book_id=r.book_id\n",
    "    WHERE b.book_id IN (\n",
    "        SELECT book_id\n",
    "        FROM ratings\n",
    "        GROUP BY book_id\n",
    "        HAVING COUNT(rating) >= 50)\n",
    "    GROUP BY \n",
    "        a.author,\n",
    "        b.book_id\n",
    ")\n",
    "SELECT \n",
    "    author, \n",
    "    AVG(book_avg_rating) AS rating_avg\n",
    "FROM t\n",
    "GROUP BY t.author\n",
    "ORDER BY rating_avg desc\n",
    "LIMIT 1\n",
    "\n",
    "'''\n",
    "get_sql_data(query)"
   ]
  },
  {
   "cell_type": "markdown",
   "metadata": {},
   "source": [
    "*Посчитайте среднее количество обзоров от пользователей, которые поставилибольше 48 оценок.*"
   ]
  },
  {
   "cell_type": "code",
   "execution_count": 20,
   "metadata": {},
   "outputs": [
    {
     "data": {
      "text/html": [
       "<div>\n",
       "<style scoped>\n",
       "    .dataframe tbody tr th:only-of-type {\n",
       "        vertical-align: middle;\n",
       "    }\n",
       "\n",
       "    .dataframe tbody tr th {\n",
       "        vertical-align: top;\n",
       "    }\n",
       "\n",
       "    .dataframe thead th {\n",
       "        text-align: right;\n",
       "    }\n",
       "</style>\n",
       "<table border=\"1\" class=\"dataframe\">\n",
       "  <thead>\n",
       "    <tr style=\"text-align: right;\">\n",
       "      <th></th>\n",
       "      <th>avg</th>\n",
       "    </tr>\n",
       "  </thead>\n",
       "  <tbody>\n",
       "    <tr>\n",
       "      <th>0</th>\n",
       "      <td>24.0</td>\n",
       "    </tr>\n",
       "  </tbody>\n",
       "</table>\n",
       "</div>"
      ],
      "text/plain": [
       "    avg\n",
       "0  24.0"
      ]
     },
     "execution_count": 20,
     "metadata": {},
     "output_type": "execute_result"
    }
   ],
   "source": [
    "query = ''' WITH t as (SELECT username, COUNT(text)\n",
    "            FROM reviews \n",
    "            WHERE username IN (SELECT username\n",
    "                FROM ratings \n",
    "                GROUP BY username\n",
    "                HAVING COUNT(rating) > 48)\n",
    "            GROUP BY username)\n",
    "            SELECT AVG(count)\n",
    "            FROM t\n",
    "            '''\n",
    "get_sql_data(query)"
   ]
  },
  {
   "cell_type": "markdown",
   "metadata": {},
   "source": [
    "**Посчитал среднее количество обзоров от пользователей, которые поставили больше 48 оценок.**"
   ]
  },
  {
   "cell_type": "markdown",
   "metadata": {},
   "source": [
    "**Общий вывод:**\n",
    "1. Были загружены и проверены данные\n",
    "2. Решены технические задачи. В ходе выполнения получены следующие результаты:\n",
    "   - C 1 января 2000 было выпущено 862 книга\n",
    "   - Выведена таблица которая содержит id книг, название,  количество обзоров и среднюю оценку\n",
    "   - Наибольшее количество книг, толщиной более 50 листов выпустило издательство \"Penguin Books\" 42 книги\n",
    "   - Получили автора с самой высокой средней оценкой, сучетом того что, у книги не менее 50 оценок\n",
    "   - Посчитал среднее количество обзоров от пользователей, которые поставили больше 48 оценок, их получилось 24"
   ]
  }
 ],
 "metadata": {
  "ExecuteTimeLog": [
   {
    "duration": 2779,
    "start_time": "2023-10-23T13:14:47.802Z"
   },
   {
    "duration": 13334,
    "start_time": "2023-10-23T13:15:01.420Z"
   },
   {
    "duration": 248,
    "start_time": "2023-10-23T13:15:15.686Z"
   },
   {
    "duration": 51,
    "start_time": "2023-10-23T13:15:29.209Z"
   },
   {
    "duration": 53,
    "start_time": "2023-10-23T13:15:40.267Z"
   },
   {
    "duration": 51,
    "start_time": "2023-10-23T13:15:51.499Z"
   },
   {
    "duration": 52,
    "start_time": "2023-10-23T13:16:03.686Z"
   },
   {
    "duration": 58,
    "start_time": "2023-10-23T13:16:16.069Z"
   },
   {
    "duration": 53,
    "start_time": "2023-10-23T13:16:25.386Z"
   },
   {
    "duration": 50,
    "start_time": "2023-10-23T13:16:40.703Z"
   },
   {
    "duration": 54,
    "start_time": "2023-10-23T13:16:52.255Z"
   },
   {
    "duration": 52,
    "start_time": "2023-10-23T13:17:03.347Z"
   },
   {
    "duration": 53,
    "start_time": "2023-10-23T13:18:38.546Z"
   },
   {
    "duration": 62,
    "start_time": "2023-10-23T13:19:26.175Z"
   },
   {
    "duration": 84,
    "start_time": "2023-10-23T13:24:00.007Z"
   },
   {
    "duration": 138,
    "start_time": "2023-10-23T13:25:17.491Z"
   },
   {
    "duration": 2319,
    "start_time": "2023-10-23T13:25:56.387Z"
   },
   {
    "duration": 10731,
    "start_time": "2023-10-23T13:25:58.708Z"
   },
   {
    "duration": 244,
    "start_time": "2023-10-23T13:26:09.441Z"
   },
   {
    "duration": 52,
    "start_time": "2023-10-23T13:26:09.687Z"
   },
   {
    "duration": 53,
    "start_time": "2023-10-23T13:26:09.740Z"
   },
   {
    "duration": 52,
    "start_time": "2023-10-23T13:26:09.795Z"
   },
   {
    "duration": 53,
    "start_time": "2023-10-23T13:26:09.849Z"
   },
   {
    "duration": 52,
    "start_time": "2023-10-23T13:26:09.903Z"
   },
   {
    "duration": 52,
    "start_time": "2023-10-23T13:26:09.957Z"
   },
   {
    "duration": 52,
    "start_time": "2023-10-23T13:26:10.012Z"
   },
   {
    "duration": 52,
    "start_time": "2023-10-23T13:26:10.066Z"
   },
   {
    "duration": 51,
    "start_time": "2023-10-23T13:26:10.120Z"
   },
   {
    "duration": 53,
    "start_time": "2023-10-23T13:26:10.172Z"
   },
   {
    "duration": 63,
    "start_time": "2023-10-23T13:26:10.226Z"
   },
   {
    "duration": 146,
    "start_time": "2023-10-23T13:26:10.291Z"
   },
   {
    "duration": 54,
    "start_time": "2023-10-23T13:27:01.013Z"
   },
   {
    "duration": 52,
    "start_time": "2023-10-23T13:28:11.774Z"
   },
   {
    "duration": 94,
    "start_time": "2023-10-23T13:28:41.323Z"
   },
   {
    "duration": 107,
    "start_time": "2023-10-23T13:29:35.984Z"
   },
   {
    "duration": 54,
    "start_time": "2023-10-23T13:31:10.517Z"
   },
   {
    "duration": 65,
    "start_time": "2023-10-23T13:31:42.827Z"
   },
   {
    "duration": 65,
    "start_time": "2023-10-23T13:32:03.399Z"
   },
   {
    "duration": 65,
    "start_time": "2023-10-23T13:32:12.892Z"
   },
   {
    "duration": 56,
    "start_time": "2023-10-23T13:32:48.359Z"
   },
   {
    "duration": 57,
    "start_time": "2023-10-23T13:33:26.093Z"
   },
   {
    "duration": 57,
    "start_time": "2023-10-23T13:33:42.237Z"
   },
   {
    "duration": 53,
    "start_time": "2023-10-23T13:34:03.569Z"
   },
   {
    "duration": 82,
    "start_time": "2023-10-23T13:37:59.420Z"
   },
   {
    "duration": 64,
    "start_time": "2023-10-23T13:39:30.505Z"
   },
   {
    "duration": 94,
    "start_time": "2023-10-23T13:39:40.457Z"
   },
   {
    "duration": 53,
    "start_time": "2023-10-23T13:41:27.836Z"
   },
   {
    "duration": 53,
    "start_time": "2023-10-23T13:44:26.535Z"
   },
   {
    "duration": 66,
    "start_time": "2023-10-23T13:45:20.258Z"
   },
   {
    "duration": 70,
    "start_time": "2023-10-23T13:45:39.826Z"
   },
   {
    "duration": 69,
    "start_time": "2023-10-23T13:46:12.686Z"
   },
   {
    "duration": 65,
    "start_time": "2023-10-23T13:46:48.486Z"
   },
   {
    "duration": 67,
    "start_time": "2023-10-23T13:47:33.139Z"
   },
   {
    "duration": 52,
    "start_time": "2023-10-23T13:54:42.969Z"
   },
   {
    "duration": 55,
    "start_time": "2023-10-23T13:55:20.023Z"
   },
   {
    "duration": 56,
    "start_time": "2023-10-23T13:55:45.857Z"
   },
   {
    "duration": 2606,
    "start_time": "2023-10-23T16:14:48.630Z"
   },
   {
    "duration": 15721,
    "start_time": "2023-10-23T16:14:51.239Z"
   },
   {
    "duration": 241,
    "start_time": "2023-10-23T16:15:06.962Z"
   },
   {
    "duration": 52,
    "start_time": "2023-10-23T16:15:07.205Z"
   },
   {
    "duration": 53,
    "start_time": "2023-10-23T16:15:07.259Z"
   },
   {
    "duration": 51,
    "start_time": "2023-10-23T16:15:07.314Z"
   },
   {
    "duration": 52,
    "start_time": "2023-10-23T16:15:07.367Z"
   },
   {
    "duration": 51,
    "start_time": "2023-10-23T16:15:07.421Z"
   },
   {
    "duration": 54,
    "start_time": "2023-10-23T16:15:07.474Z"
   },
   {
    "duration": 51,
    "start_time": "2023-10-23T16:15:07.530Z"
   },
   {
    "duration": 54,
    "start_time": "2023-10-23T16:15:07.583Z"
   },
   {
    "duration": 52,
    "start_time": "2023-10-23T16:15:07.638Z"
   },
   {
    "duration": 52,
    "start_time": "2023-10-23T16:15:07.692Z"
   },
   {
    "duration": 62,
    "start_time": "2023-10-23T16:15:07.747Z"
   },
   {
    "duration": 52,
    "start_time": "2023-10-23T16:15:07.811Z"
   },
   {
    "duration": 93,
    "start_time": "2023-10-23T16:15:07.865Z"
   },
   {
    "duration": 55,
    "start_time": "2023-10-23T16:15:07.960Z"
   },
   {
    "duration": 138,
    "start_time": "2023-10-23T16:16:51.586Z"
   },
   {
    "duration": 58,
    "start_time": "2023-10-23T16:17:37.267Z"
   },
   {
    "duration": 60,
    "start_time": "2023-10-23T16:21:52.089Z"
   },
   {
    "duration": 112,
    "start_time": "2023-10-23T16:22:23.486Z"
   },
   {
    "duration": 102,
    "start_time": "2023-10-23T16:25:27.888Z"
   },
   {
    "duration": 63,
    "start_time": "2023-10-23T16:26:26.390Z"
   },
   {
    "duration": 62,
    "start_time": "2023-10-23T16:26:52.782Z"
   },
   {
    "duration": 63,
    "start_time": "2023-10-23T16:27:14.030Z"
   },
   {
    "duration": 62,
    "start_time": "2023-10-23T16:27:31.717Z"
   },
   {
    "duration": 75,
    "start_time": "2023-10-23T16:27:51.730Z"
   },
   {
    "duration": 1493,
    "start_time": "2023-10-23T16:28:27.145Z"
   },
   {
    "duration": 67,
    "start_time": "2023-10-23T16:29:14.609Z"
   },
   {
    "duration": 57,
    "start_time": "2023-10-23T16:29:44.177Z"
   },
   {
    "duration": 58,
    "start_time": "2023-10-23T16:29:53.108Z"
   },
   {
    "duration": 57,
    "start_time": "2023-10-23T16:30:29.649Z"
   },
   {
    "duration": 64,
    "start_time": "2023-10-23T16:40:21.198Z"
   },
   {
    "duration": 55,
    "start_time": "2023-10-23T16:43:21.168Z"
   },
   {
    "duration": 61,
    "start_time": "2023-10-23T16:43:44.570Z"
   },
   {
    "duration": 62,
    "start_time": "2023-10-23T16:44:14.558Z"
   },
   {
    "duration": 57,
    "start_time": "2023-10-23T16:44:53.076Z"
   },
   {
    "duration": 65,
    "start_time": "2023-10-23T16:45:31.320Z"
   },
   {
    "duration": 65,
    "start_time": "2023-10-23T16:48:14.860Z"
   },
   {
    "duration": 69,
    "start_time": "2023-10-23T16:49:50.595Z"
   },
   {
    "duration": 80,
    "start_time": "2023-10-23T16:52:13.828Z"
   },
   {
    "duration": 72,
    "start_time": "2023-10-23T16:52:23.988Z"
   },
   {
    "duration": 68,
    "start_time": "2023-10-23T16:54:33.134Z"
   },
   {
    "duration": 84,
    "start_time": "2023-10-23T16:55:07.029Z"
   },
   {
    "duration": 119,
    "start_time": "2023-10-23T16:55:16.796Z"
   },
   {
    "duration": 74,
    "start_time": "2023-10-23T16:55:54.328Z"
   },
   {
    "duration": 69,
    "start_time": "2023-10-23T16:56:21.801Z"
   },
   {
    "duration": 71,
    "start_time": "2023-10-23T16:56:36.528Z"
   },
   {
    "duration": 66,
    "start_time": "2023-10-23T16:56:55.255Z"
   },
   {
    "duration": 56,
    "start_time": "2023-10-23T16:57:44.037Z"
   },
   {
    "duration": 55,
    "start_time": "2023-10-23T16:59:32.870Z"
   },
   {
    "duration": 5011,
    "start_time": "2023-10-23T18:51:00.648Z"
   },
   {
    "duration": 13627,
    "start_time": "2023-10-23T18:51:05.660Z"
   },
   {
    "duration": 324,
    "start_time": "2023-10-23T18:51:19.289Z"
   },
   {
    "duration": 89,
    "start_time": "2023-10-23T18:51:19.615Z"
   },
   {
    "duration": 61,
    "start_time": "2023-10-23T18:51:19.706Z"
   },
   {
    "duration": 72,
    "start_time": "2023-10-23T18:51:19.775Z"
   },
   {
    "duration": 63,
    "start_time": "2023-10-23T18:51:19.850Z"
   },
   {
    "duration": 71,
    "start_time": "2023-10-23T18:51:19.948Z"
   },
   {
    "duration": 66,
    "start_time": "2023-10-23T18:51:20.050Z"
   },
   {
    "duration": 99,
    "start_time": "2023-10-23T18:51:20.117Z"
   },
   {
    "duration": 73,
    "start_time": "2023-10-23T18:51:20.219Z"
   },
   {
    "duration": 89,
    "start_time": "2023-10-23T18:51:20.294Z"
   },
   {
    "duration": 71,
    "start_time": "2023-10-23T18:51:20.384Z"
   },
   {
    "duration": 69,
    "start_time": "2023-10-23T18:51:20.460Z"
   },
   {
    "duration": 67,
    "start_time": "2023-10-23T18:51:20.546Z"
   },
   {
    "duration": 107,
    "start_time": "2023-10-23T18:51:20.615Z"
   },
   {
    "duration": 70,
    "start_time": "2023-10-23T18:51:20.723Z"
   },
   {
    "duration": 64,
    "start_time": "2023-10-23T19:02:12.193Z"
   },
   {
    "duration": 81,
    "start_time": "2023-10-23T19:10:11.972Z"
   },
   {
    "duration": 72,
    "start_time": "2023-10-23T19:10:17.255Z"
   },
   {
    "duration": 66,
    "start_time": "2023-10-23T19:13:11.721Z"
   },
   {
    "duration": 63,
    "start_time": "2023-10-23T19:13:17.097Z"
   },
   {
    "duration": 61,
    "start_time": "2023-10-23T19:15:12.581Z"
   },
   {
    "duration": 73,
    "start_time": "2023-10-23T19:15:18.097Z"
   },
   {
    "duration": 175,
    "start_time": "2023-10-23T19:21:33.146Z"
   },
   {
    "duration": 64,
    "start_time": "2023-10-23T19:21:49.592Z"
   },
   {
    "duration": 56,
    "start_time": "2023-10-23T19:21:59.972Z"
   },
   {
    "duration": 69,
    "start_time": "2023-10-23T19:22:10.438Z"
   },
   {
    "duration": 2453,
    "start_time": "2023-10-23T19:24:23.212Z"
   },
   {
    "duration": 12640,
    "start_time": "2023-10-23T19:24:25.667Z"
   },
   {
    "duration": 297,
    "start_time": "2023-10-23T19:24:38.309Z"
   },
   {
    "duration": 66,
    "start_time": "2023-10-23T19:24:38.608Z"
   },
   {
    "duration": 53,
    "start_time": "2023-10-23T19:24:38.677Z"
   },
   {
    "duration": 76,
    "start_time": "2023-10-23T19:24:38.731Z"
   },
   {
    "duration": 68,
    "start_time": "2023-10-23T19:24:38.809Z"
   },
   {
    "duration": 51,
    "start_time": "2023-10-23T19:24:38.879Z"
   },
   {
    "duration": 70,
    "start_time": "2023-10-23T19:24:38.931Z"
   },
   {
    "duration": 67,
    "start_time": "2023-10-23T19:24:39.003Z"
   },
   {
    "duration": 54,
    "start_time": "2023-10-23T19:24:39.078Z"
   },
   {
    "duration": 73,
    "start_time": "2023-10-23T19:24:39.133Z"
   },
   {
    "duration": 79,
    "start_time": "2023-10-23T19:24:39.207Z"
   },
   {
    "duration": 72,
    "start_time": "2023-10-23T19:24:39.288Z"
   },
   {
    "duration": 57,
    "start_time": "2023-10-23T19:24:39.362Z"
   },
   {
    "duration": 83,
    "start_time": "2023-10-23T19:24:39.420Z"
   },
   {
    "duration": 75,
    "start_time": "2023-10-23T19:24:39.504Z"
   },
   {
    "duration": 54,
    "start_time": "2023-10-23T19:24:39.581Z"
   },
   {
    "duration": 67,
    "start_time": "2023-10-23T19:25:02.107Z"
   },
   {
    "duration": 2419,
    "start_time": "2023-10-23T19:36:24.875Z"
   },
   {
    "duration": 527,
    "start_time": "2023-10-23T19:36:27.296Z"
   },
   {
    "duration": 9471,
    "start_time": "2023-10-23T19:36:27.824Z"
   },
   {
    "duration": 249,
    "start_time": "2023-10-23T19:36:37.298Z"
   },
   {
    "duration": 54,
    "start_time": "2023-10-23T19:36:37.549Z"
   },
   {
    "duration": 55,
    "start_time": "2023-10-23T19:36:37.605Z"
   },
   {
    "duration": 52,
    "start_time": "2023-10-23T19:36:37.662Z"
   },
   {
    "duration": 54,
    "start_time": "2023-10-23T19:36:37.716Z"
   },
   {
    "duration": 54,
    "start_time": "2023-10-23T19:36:37.771Z"
   },
   {
    "duration": 55,
    "start_time": "2023-10-23T19:36:37.827Z"
   },
   {
    "duration": 54,
    "start_time": "2023-10-23T19:36:37.883Z"
   },
   {
    "duration": 56,
    "start_time": "2023-10-23T19:36:37.939Z"
   },
   {
    "duration": 55,
    "start_time": "2023-10-23T19:36:37.997Z"
   },
   {
    "duration": 55,
    "start_time": "2023-10-23T19:36:38.053Z"
   },
   {
    "duration": 64,
    "start_time": "2023-10-23T19:36:38.110Z"
   },
   {
    "duration": 55,
    "start_time": "2023-10-23T19:36:38.176Z"
   },
   {
    "duration": 59,
    "start_time": "2023-10-23T19:36:38.232Z"
   },
   {
    "duration": 60,
    "start_time": "2023-10-23T19:36:38.293Z"
   },
   {
    "duration": 57,
    "start_time": "2023-10-23T19:36:38.354Z"
   },
   {
    "duration": 53,
    "start_time": "2023-10-23T19:38:34.978Z"
   },
   {
    "duration": 53,
    "start_time": "2023-10-23T19:39:42.318Z"
   },
   {
    "duration": 125,
    "start_time": "2023-10-23T19:42:18.921Z"
   },
   {
    "duration": 64,
    "start_time": "2023-10-23T19:44:02.852Z"
   },
   {
    "duration": 74,
    "start_time": "2023-10-23T19:44:29.272Z"
   },
   {
    "duration": 57,
    "start_time": "2023-10-23T19:44:55.397Z"
   },
   {
    "duration": 84,
    "start_time": "2023-10-23T19:45:23.054Z"
   },
   {
    "duration": 55,
    "start_time": "2023-10-23T19:46:46.762Z"
   },
   {
    "duration": 62,
    "start_time": "2023-10-23T19:53:03.059Z"
   },
   {
    "duration": 61,
    "start_time": "2023-10-23T19:54:21.788Z"
   },
   {
    "duration": 66,
    "start_time": "2023-10-23T19:55:34.879Z"
   },
   {
    "duration": 132,
    "start_time": "2023-10-23T19:55:47.187Z"
   },
   {
    "duration": 63,
    "start_time": "2023-10-23T19:57:34.043Z"
   },
   {
    "duration": 82,
    "start_time": "2023-10-23T19:59:07.277Z"
   },
   {
    "duration": 87,
    "start_time": "2023-10-23T19:59:58.062Z"
   },
   {
    "duration": 67,
    "start_time": "2023-10-23T20:01:16.143Z"
   },
   {
    "duration": 57,
    "start_time": "2023-10-23T20:01:33.596Z"
   },
   {
    "duration": 56,
    "start_time": "2023-10-23T20:02:02.022Z"
   },
   {
    "duration": 358,
    "start_time": "2023-10-23T20:02:37.463Z"
   },
   {
    "duration": 60,
    "start_time": "2023-10-23T20:05:15.154Z"
   },
   {
    "duration": 2215,
    "start_time": "2023-10-23T20:16:56.153Z"
   },
   {
    "duration": 479,
    "start_time": "2023-10-23T20:16:58.370Z"
   },
   {
    "duration": 11836,
    "start_time": "2023-10-23T20:16:58.850Z"
   },
   {
    "duration": 231,
    "start_time": "2023-10-23T20:17:10.688Z"
   },
   {
    "duration": 50,
    "start_time": "2023-10-23T20:17:10.922Z"
   },
   {
    "duration": 51,
    "start_time": "2023-10-23T20:17:10.973Z"
   },
   {
    "duration": 86,
    "start_time": "2023-10-23T20:17:11.026Z"
   },
   {
    "duration": 50,
    "start_time": "2023-10-23T20:17:11.114Z"
   },
   {
    "duration": 50,
    "start_time": "2023-10-23T20:17:11.166Z"
   },
   {
    "duration": 51,
    "start_time": "2023-10-23T20:17:11.218Z"
   },
   {
    "duration": 50,
    "start_time": "2023-10-23T20:17:11.271Z"
   },
   {
    "duration": 52,
    "start_time": "2023-10-23T20:17:11.322Z"
   },
   {
    "duration": 51,
    "start_time": "2023-10-23T20:17:11.375Z"
   },
   {
    "duration": 51,
    "start_time": "2023-10-23T20:17:11.428Z"
   },
   {
    "duration": 58,
    "start_time": "2023-10-23T20:17:11.480Z"
   },
   {
    "duration": 81,
    "start_time": "2023-10-23T20:17:11.540Z"
   },
   {
    "duration": 55,
    "start_time": "2023-10-23T20:17:11.622Z"
   },
   {
    "duration": 55,
    "start_time": "2023-10-23T20:17:11.679Z"
   },
   {
    "duration": 114,
    "start_time": "2023-10-23T20:17:11.736Z"
   },
   {
    "duration": 2426,
    "start_time": "2023-10-23T20:26:46.246Z"
   },
   {
    "duration": 541,
    "start_time": "2023-10-23T20:26:48.674Z"
   },
   {
    "duration": 10842,
    "start_time": "2023-10-23T20:26:49.217Z"
   },
   {
    "duration": 290,
    "start_time": "2023-10-23T20:27:00.063Z"
   },
   {
    "duration": 57,
    "start_time": "2023-10-23T20:27:00.356Z"
   },
   {
    "duration": 70,
    "start_time": "2023-10-23T20:27:00.416Z"
   },
   {
    "duration": 51,
    "start_time": "2023-10-23T20:27:00.488Z"
   },
   {
    "duration": 55,
    "start_time": "2023-10-23T20:27:00.542Z"
   },
   {
    "duration": 73,
    "start_time": "2023-10-23T20:27:00.600Z"
   },
   {
    "duration": 52,
    "start_time": "2023-10-23T20:27:00.675Z"
   },
   {
    "duration": 68,
    "start_time": "2023-10-23T20:27:00.729Z"
   },
   {
    "duration": 74,
    "start_time": "2023-10-23T20:27:00.799Z"
   },
   {
    "duration": 54,
    "start_time": "2023-10-23T20:27:00.875Z"
   },
   {
    "duration": 75,
    "start_time": "2023-10-23T20:27:00.931Z"
   },
   {
    "duration": 76,
    "start_time": "2023-10-23T20:27:01.008Z"
   },
   {
    "duration": 53,
    "start_time": "2023-10-23T20:27:01.086Z"
   },
   {
    "duration": 77,
    "start_time": "2023-10-23T20:27:01.141Z"
   },
   {
    "duration": 82,
    "start_time": "2023-10-23T20:27:01.220Z"
   },
   {
    "duration": 67,
    "start_time": "2023-10-23T20:27:01.304Z"
   },
   {
    "duration": 91,
    "start_time": "2023-10-23T20:29:24.711Z"
   },
   {
    "duration": 66,
    "start_time": "2023-10-23T20:29:27.461Z"
   },
   {
    "duration": 162,
    "start_time": "2023-10-23T20:32:41.524Z"
   },
   {
    "duration": 81,
    "start_time": "2023-10-23T20:33:08.034Z"
   },
   {
    "duration": 71,
    "start_time": "2023-10-23T20:33:25.234Z"
   },
   {
    "duration": 50,
    "start_time": "2023-10-24T06:31:47.216Z"
   },
   {
    "duration": 2483,
    "start_time": "2023-10-24T06:31:55.592Z"
   },
   {
    "duration": 491,
    "start_time": "2023-10-24T06:31:58.077Z"
   },
   {
    "duration": 9680,
    "start_time": "2023-10-24T06:31:58.570Z"
   },
   {
    "duration": 54,
    "start_time": "2023-10-24T06:32:08.251Z"
   },
   {
    "duration": 9,
    "start_time": "2023-10-24T06:32:08.307Z"
   },
   {
    "duration": 37,
    "start_time": "2023-10-24T06:32:08.318Z"
   },
   {
    "duration": 67,
    "start_time": "2023-10-24T06:32:08.357Z"
   },
   {
    "duration": 23,
    "start_time": "2023-10-24T06:32:08.425Z"
   },
   {
    "duration": 26,
    "start_time": "2023-10-24T06:32:08.450Z"
   },
   {
    "duration": 22,
    "start_time": "2023-10-24T06:32:08.477Z"
   },
   {
    "duration": 31,
    "start_time": "2023-10-24T06:32:08.501Z"
   },
   {
    "duration": 17,
    "start_time": "2023-10-24T06:32:08.533Z"
   },
   {
    "duration": 34,
    "start_time": "2023-10-24T06:32:08.551Z"
   },
   {
    "duration": 31,
    "start_time": "2023-10-24T06:32:08.588Z"
   },
   {
    "duration": 14,
    "start_time": "2023-10-24T06:32:08.620Z"
   },
   {
    "duration": 49,
    "start_time": "2023-10-24T06:32:08.635Z"
   },
   {
    "duration": 19,
    "start_time": "2023-10-24T06:32:08.686Z"
   },
   {
    "duration": 31,
    "start_time": "2023-10-24T06:32:08.706Z"
   },
   {
    "duration": 27,
    "start_time": "2023-10-24T06:32:08.738Z"
   },
   {
    "duration": 24,
    "start_time": "2023-10-24T06:32:08.767Z"
   }
  ],
  "kernelspec": {
   "display_name": "Python 3 (ipykernel)",
   "language": "python",
   "name": "python3"
  },
  "language_info": {
   "codemirror_mode": {
    "name": "ipython",
    "version": 3
   },
   "file_extension": ".py",
   "mimetype": "text/x-python",
   "name": "python",
   "nbconvert_exporter": "python",
   "pygments_lexer": "ipython3",
   "version": "3.10.9"
  },
  "toc": {
   "base_numbering": 1,
   "nav_menu": {},
   "number_sections": true,
   "sideBar": true,
   "skip_h1_title": true,
   "title_cell": "Table of Contents",
   "title_sidebar": "Contents",
   "toc_cell": false,
   "toc_position": {},
   "toc_section_display": true,
   "toc_window_display": false
  }
 },
 "nbformat": 4,
 "nbformat_minor": 2
}
