{
 "cells": [
  {
   "cell_type": "markdown",
   "metadata": {},
   "source": [
    "# **Дашборд: E-commerce — Выявлениепрофилей потребления**\n",
    "\n",
    "1. Постройте диаграмму количества покупок по дням.\n",
    "2. Добавьте индикатор количества покупателей.\n",
    "3. Добавьте фильтр дашборда по дате совершения покупки.\n"
   ]
  },
  {
   "cell_type": "markdown",
   "metadata": {},
   "source": [
    "Tableau_ <https://public.tableau.com/shared/K8J9Z574G?:display_count=n&:origin=viz_share_link>"
   ]
  }
 ],
 "metadata": {
  "ExecuteTimeLog": [
   {
    "duration": 148,
    "start_time": "2023-10-19T07:35:35.633Z"
   },
   {
    "duration": 139,
    "start_time": "2023-10-19T21:09:24.205Z"
   }
  ],
  "kernelspec": {
   "display_name": "Python 3 (ipykernel)",
   "language": "python",
   "name": "python3"
  },
  "language_info": {
   "codemirror_mode": {
    "name": "ipython",
    "version": 3
   },
   "file_extension": ".py",
   "mimetype": "text/x-python",
   "name": "python",
   "nbconvert_exporter": "python",
   "pygments_lexer": "ipython3",
   "version": "3.10.9"
  },
  "toc": {
   "base_numbering": 1,
   "nav_menu": {},
   "number_sections": true,
   "sideBar": true,
   "skip_h1_title": true,
   "title_cell": "Table of Contents",
   "title_sidebar": "Contents",
   "toc_cell": false,
   "toc_position": {},
   "toc_section_display": true,
   "toc_window_display": false
  }
 },
 "nbformat": 4,
 "nbformat_minor": 2
}
